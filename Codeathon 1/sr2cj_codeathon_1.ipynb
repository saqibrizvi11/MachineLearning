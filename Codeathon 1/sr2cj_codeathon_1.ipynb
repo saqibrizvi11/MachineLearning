{
  "nbformat": 4,
  "nbformat_minor": 0,
  "metadata": {
    "colab": {
      "name": "sr2cj_codeathon_1.ipynb",
      "provenance": [],
      "toc_visible": true
    },
    "kernelspec": {
      "name": "python3",
      "display_name": "Python 3"
    }
  },
  "cells": [
    {
      "cell_type": "markdown",
      "metadata": {
        "id": "yyJl73Oo6P7P"
      },
      "source": [
        "# Step 1 : Big Picture & Set up"
      ]
    },
    {
      "cell_type": "code",
      "metadata": {
        "id": "HneLWNDQ6V9w"
      },
      "source": [
        "import sklearn # general ml package\n",
        "# Common imports\n",
        "import numpy as np # fundamental package for scientific computing\n",
        "import os # to run file I/O operation \n",
        "\n",
        "# to make this notebook's output stable across runs\n",
        "# any number will do, as long as it is used consistently\n",
        "np.random.seed(30)\n",
        "\n",
        "# To plot pretty figures\n",
        "%matplotlib inline\n",
        "import matplotlib as mpl\n",
        "import matplotlib.pyplot as plt\n",
        "mpl.rc('axes', labelsize=14)\n",
        "mpl.rc('xtick', labelsize=12)\n",
        "mpl.rc('ytick', labelsize=12)"
      ],
      "execution_count": null,
      "outputs": []
    },
    {
      "cell_type": "markdown",
      "metadata": {
        "id": "EV3Bc3O65_cx"
      },
      "source": [
        "# Step 2 : Get the data"
      ]
    },
    {
      "cell_type": "code",
      "metadata": {
        "colab": {
          "base_uri": "https://localhost:8080/"
        },
        "id": "JGRnVf866IQs",
        "outputId": "2e4df6ad-700e-4c3c-b984-45268e3e416d"
      },
      "source": [
        "from six.moves import urllib \n",
        "\n",
        "DOWNLOAD_ROOT = 'https://raw.githubusercontent.com/saqibrizvi11/MachineLearning/master/'\n",
        "HOUSING_PATH = os.path.join(\"datasets\", \"housing\")\n",
        "HOUSING_URL = DOWNLOAD_ROOT + 'Codeathon%201/Processed/housing.csv'\n",
        "if not os.path.isdir(HOUSING_PATH):\n",
        "    os.makedirs(HOUSING_PATH)\n",
        "tgz_path = os.path.join(HOUSING_PATH, \"housing.csv\")\n",
        "urllib.request.urlretrieve(HOUSING_URL, tgz_path)"
      ],
      "execution_count": null,
      "outputs": [
        {
          "output_type": "execute_result",
          "data": {
            "text/plain": [
              "('datasets/housing/housing.csv', <http.client.HTTPMessage at 0x7f36052c7860>)"
            ]
          },
          "metadata": {
            "tags": []
          },
          "execution_count": 102
        }
      ]
    },
    {
      "cell_type": "code",
      "metadata": {
        "colab": {
          "base_uri": "https://localhost:8080/",
          "height": 359
        },
        "id": "YwBPgqzO7rWW",
        "outputId": "c3287ea9-f3e9-44ee-8c36-cffa37073472"
      },
      "source": [
        "import pandas as pd \n",
        "\n",
        "def load_housing_data(housing_path=HOUSING_PATH):\n",
        "    \"\"\"Load Housing Data into Workspace from a CSV\"\"\"\n",
        "    csv_path = os.path.join(housing_path, \"housing.csv\")\n",
        "    df = pd.read_csv(csv_path)\n",
        "    df.columns = ['CRIM', 'ZN', 'INDUS', 'CHAS', 'NOX', 'RM', 'AGE', 'DIS', 'RAD', 'TAX', 'PTRATIO', 'B', 'LSTAT', 'MEDV']\n",
        "    return df\n",
        "\n",
        "housing = load_housing_data()\n",
        "# Display the first n rows of the data. (n=5 by default, we will use 10 rows)\n",
        "housing.head(10)"
      ],
      "execution_count": null,
      "outputs": [
        {
          "output_type": "execute_result",
          "data": {
            "text/html": [
              "<div>\n",
              "<style scoped>\n",
              "    .dataframe tbody tr th:only-of-type {\n",
              "        vertical-align: middle;\n",
              "    }\n",
              "\n",
              "    .dataframe tbody tr th {\n",
              "        vertical-align: top;\n",
              "    }\n",
              "\n",
              "    .dataframe thead th {\n",
              "        text-align: right;\n",
              "    }\n",
              "</style>\n",
              "<table border=\"1\" class=\"dataframe\">\n",
              "  <thead>\n",
              "    <tr style=\"text-align: right;\">\n",
              "      <th></th>\n",
              "      <th>CRIM</th>\n",
              "      <th>ZN</th>\n",
              "      <th>INDUS</th>\n",
              "      <th>CHAS</th>\n",
              "      <th>NOX</th>\n",
              "      <th>RM</th>\n",
              "      <th>AGE</th>\n",
              "      <th>DIS</th>\n",
              "      <th>RAD</th>\n",
              "      <th>TAX</th>\n",
              "      <th>PTRATIO</th>\n",
              "      <th>B</th>\n",
              "      <th>LSTAT</th>\n",
              "      <th>MEDV</th>\n",
              "    </tr>\n",
              "  </thead>\n",
              "  <tbody>\n",
              "    <tr>\n",
              "      <th>0</th>\n",
              "      <td>0.02731</td>\n",
              "      <td>0.0</td>\n",
              "      <td>7.07</td>\n",
              "      <td>0</td>\n",
              "      <td>0.469</td>\n",
              "      <td>6.421</td>\n",
              "      <td>78.9</td>\n",
              "      <td>4.9671</td>\n",
              "      <td>2</td>\n",
              "      <td>242</td>\n",
              "      <td>17.8</td>\n",
              "      <td>396.90</td>\n",
              "      <td>9.14</td>\n",
              "      <td>21.6</td>\n",
              "    </tr>\n",
              "    <tr>\n",
              "      <th>1</th>\n",
              "      <td>0.02729</td>\n",
              "      <td>0.0</td>\n",
              "      <td>7.07</td>\n",
              "      <td>0</td>\n",
              "      <td>0.469</td>\n",
              "      <td>7.185</td>\n",
              "      <td>61.1</td>\n",
              "      <td>4.9671</td>\n",
              "      <td>2</td>\n",
              "      <td>242</td>\n",
              "      <td>17.8</td>\n",
              "      <td>392.83</td>\n",
              "      <td>4.03</td>\n",
              "      <td>34.7</td>\n",
              "    </tr>\n",
              "    <tr>\n",
              "      <th>2</th>\n",
              "      <td>0.03237</td>\n",
              "      <td>0.0</td>\n",
              "      <td>2.18</td>\n",
              "      <td>0</td>\n",
              "      <td>0.458</td>\n",
              "      <td>6.998</td>\n",
              "      <td>45.8</td>\n",
              "      <td>6.0622</td>\n",
              "      <td>3</td>\n",
              "      <td>222</td>\n",
              "      <td>18.7</td>\n",
              "      <td>394.63</td>\n",
              "      <td>2.94</td>\n",
              "      <td>33.4</td>\n",
              "    </tr>\n",
              "    <tr>\n",
              "      <th>3</th>\n",
              "      <td>0.06905</td>\n",
              "      <td>0.0</td>\n",
              "      <td>2.18</td>\n",
              "      <td>0</td>\n",
              "      <td>0.458</td>\n",
              "      <td>7.147</td>\n",
              "      <td>54.2</td>\n",
              "      <td>6.0622</td>\n",
              "      <td>3</td>\n",
              "      <td>222</td>\n",
              "      <td>18.7</td>\n",
              "      <td>396.90</td>\n",
              "      <td>5.33</td>\n",
              "      <td>36.2</td>\n",
              "    </tr>\n",
              "    <tr>\n",
              "      <th>4</th>\n",
              "      <td>0.02985</td>\n",
              "      <td>0.0</td>\n",
              "      <td>2.18</td>\n",
              "      <td>0</td>\n",
              "      <td>0.458</td>\n",
              "      <td>6.430</td>\n",
              "      <td>58.7</td>\n",
              "      <td>6.0622</td>\n",
              "      <td>3</td>\n",
              "      <td>222</td>\n",
              "      <td>18.7</td>\n",
              "      <td>394.12</td>\n",
              "      <td>5.21</td>\n",
              "      <td>28.7</td>\n",
              "    </tr>\n",
              "    <tr>\n",
              "      <th>5</th>\n",
              "      <td>0.08829</td>\n",
              "      <td>12.5</td>\n",
              "      <td>7.87</td>\n",
              "      <td>0</td>\n",
              "      <td>0.524</td>\n",
              "      <td>6.012</td>\n",
              "      <td>66.6</td>\n",
              "      <td>5.5605</td>\n",
              "      <td>5</td>\n",
              "      <td>311</td>\n",
              "      <td>15.2</td>\n",
              "      <td>395.60</td>\n",
              "      <td>12.43</td>\n",
              "      <td>22.9</td>\n",
              "    </tr>\n",
              "    <tr>\n",
              "      <th>6</th>\n",
              "      <td>0.14455</td>\n",
              "      <td>12.5</td>\n",
              "      <td>7.87</td>\n",
              "      <td>0</td>\n",
              "      <td>0.524</td>\n",
              "      <td>6.172</td>\n",
              "      <td>96.1</td>\n",
              "      <td>5.9505</td>\n",
              "      <td>5</td>\n",
              "      <td>311</td>\n",
              "      <td>15.2</td>\n",
              "      <td>396.90</td>\n",
              "      <td>19.15</td>\n",
              "      <td>27.1</td>\n",
              "    </tr>\n",
              "    <tr>\n",
              "      <th>7</th>\n",
              "      <td>0.21124</td>\n",
              "      <td>12.5</td>\n",
              "      <td>7.87</td>\n",
              "      <td>0</td>\n",
              "      <td>0.524</td>\n",
              "      <td>5.631</td>\n",
              "      <td>100.0</td>\n",
              "      <td>6.0821</td>\n",
              "      <td>5</td>\n",
              "      <td>311</td>\n",
              "      <td>15.2</td>\n",
              "      <td>386.63</td>\n",
              "      <td>29.93</td>\n",
              "      <td>16.5</td>\n",
              "    </tr>\n",
              "    <tr>\n",
              "      <th>8</th>\n",
              "      <td>0.17004</td>\n",
              "      <td>12.5</td>\n",
              "      <td>7.87</td>\n",
              "      <td>0</td>\n",
              "      <td>0.524</td>\n",
              "      <td>6.004</td>\n",
              "      <td>85.9</td>\n",
              "      <td>6.5921</td>\n",
              "      <td>5</td>\n",
              "      <td>311</td>\n",
              "      <td>15.2</td>\n",
              "      <td>386.71</td>\n",
              "      <td>17.10</td>\n",
              "      <td>18.9</td>\n",
              "    </tr>\n",
              "    <tr>\n",
              "      <th>9</th>\n",
              "      <td>0.22489</td>\n",
              "      <td>12.5</td>\n",
              "      <td>7.87</td>\n",
              "      <td>0</td>\n",
              "      <td>0.524</td>\n",
              "      <td>6.377</td>\n",
              "      <td>94.3</td>\n",
              "      <td>6.3467</td>\n",
              "      <td>5</td>\n",
              "      <td>311</td>\n",
              "      <td>15.2</td>\n",
              "      <td>392.52</td>\n",
              "      <td>20.45</td>\n",
              "      <td>15.0</td>\n",
              "    </tr>\n",
              "  </tbody>\n",
              "</table>\n",
              "</div>"
            ],
            "text/plain": [
              "      CRIM    ZN  INDUS  CHAS    NOX  ...  TAX  PTRATIO       B  LSTAT  MEDV\n",
              "0  0.02731   0.0   7.07     0  0.469  ...  242     17.8  396.90   9.14  21.6\n",
              "1  0.02729   0.0   7.07     0  0.469  ...  242     17.8  392.83   4.03  34.7\n",
              "2  0.03237   0.0   2.18     0  0.458  ...  222     18.7  394.63   2.94  33.4\n",
              "3  0.06905   0.0   2.18     0  0.458  ...  222     18.7  396.90   5.33  36.2\n",
              "4  0.02985   0.0   2.18     0  0.458  ...  222     18.7  394.12   5.21  28.7\n",
              "5  0.08829  12.5   7.87     0  0.524  ...  311     15.2  395.60  12.43  22.9\n",
              "6  0.14455  12.5   7.87     0  0.524  ...  311     15.2  396.90  19.15  27.1\n",
              "7  0.21124  12.5   7.87     0  0.524  ...  311     15.2  386.63  29.93  16.5\n",
              "8  0.17004  12.5   7.87     0  0.524  ...  311     15.2  386.71  17.10  18.9\n",
              "9  0.22489  12.5   7.87     0  0.524  ...  311     15.2  392.52  20.45  15.0\n",
              "\n",
              "[10 rows x 14 columns]"
            ]
          },
          "metadata": {
            "tags": []
          },
          "execution_count": 103
        }
      ]
    },
    {
      "cell_type": "markdown",
      "metadata": {
        "id": "zsk4jk8jcndx"
      },
      "source": [
        "Here's a list of what all the headers stand for:\n",
        "- CRIM : per capita crime rate by town \n",
        "- ZN : proportion of residential land zoned for lots over 25,000 sq.ft. \n",
        "- INDUS : proportion of non-retail business acres per town \n",
        "- CHAS : Charles River dummy variable (= 1 if tract bounds river; 0 otherwise) \n",
        "- NOX : nitric oxides concentration (parts per 10 million) \n",
        "- RM : average number of rooms per dwelling \n",
        "- AGE proportion of owner-occupied units built prior to 1940 \n",
        "- DIS : weighted distances to five Boston employment \n",
        "centres \n",
        "- RAD : index of accessibility to radial highways \n",
        "- TAX : full-value property-tax rate per \\$10,000 \n",
        "- PTRATIO : pupil-teacher ratio by town \n",
        "- B : 1000(Bk - 0.63)^2 where Bk is the proportion of blacks by town \n",
        "- LSTAT : % lower status of the population \n",
        "- MEDV : Median value of owner-occupied homes in \\$1000's"
      ]
    },
    {
      "cell_type": "code",
      "metadata": {
        "colab": {
          "base_uri": "https://localhost:8080/"
        },
        "id": "28G2sGHSD_8V",
        "outputId": "6a611c65-e78e-45b3-f0a9-269235708cba"
      },
      "source": [
        "# Provide a quick summary of the data including name of features, count, and type\n",
        "housing.info()"
      ],
      "execution_count": null,
      "outputs": [
        {
          "output_type": "stream",
          "text": [
            "<class 'pandas.core.frame.DataFrame'>\n",
            "RangeIndex: 505 entries, 0 to 504\n",
            "Data columns (total 14 columns):\n",
            " #   Column   Non-Null Count  Dtype  \n",
            "---  ------   --------------  -----  \n",
            " 0   CRIM     505 non-null    float64\n",
            " 1   ZN       505 non-null    float64\n",
            " 2   INDUS    505 non-null    float64\n",
            " 3   CHAS     505 non-null    int64  \n",
            " 4   NOX      505 non-null    float64\n",
            " 5   RM       505 non-null    float64\n",
            " 6   AGE      505 non-null    float64\n",
            " 7   DIS      505 non-null    float64\n",
            " 8   RAD      505 non-null    int64  \n",
            " 9   TAX      505 non-null    int64  \n",
            " 10  PTRATIO  505 non-null    float64\n",
            " 11  B        505 non-null    float64\n",
            " 12  LSTAT    505 non-null    float64\n",
            " 13  MEDV     505 non-null    float64\n",
            "dtypes: float64(11), int64(3)\n",
            "memory usage: 55.4 KB\n"
          ],
          "name": "stdout"
        }
      ]
    },
    {
      "cell_type": "code",
      "metadata": {
        "colab": {
          "base_uri": "https://localhost:8080/",
          "height": 317
        },
        "id": "leWzl9oiEMQu",
        "outputId": "20fcbb66-fa95-4930-bce1-253caffac7a1"
      },
      "source": [
        "# Provide some basic statistics about the dataset\n",
        "housing.describe()"
      ],
      "execution_count": null,
      "outputs": [
        {
          "output_type": "execute_result",
          "data": {
            "text/html": [
              "<div>\n",
              "<style scoped>\n",
              "    .dataframe tbody tr th:only-of-type {\n",
              "        vertical-align: middle;\n",
              "    }\n",
              "\n",
              "    .dataframe tbody tr th {\n",
              "        vertical-align: top;\n",
              "    }\n",
              "\n",
              "    .dataframe thead th {\n",
              "        text-align: right;\n",
              "    }\n",
              "</style>\n",
              "<table border=\"1\" class=\"dataframe\">\n",
              "  <thead>\n",
              "    <tr style=\"text-align: right;\">\n",
              "      <th></th>\n",
              "      <th>CRIM</th>\n",
              "      <th>ZN</th>\n",
              "      <th>INDUS</th>\n",
              "      <th>CHAS</th>\n",
              "      <th>NOX</th>\n",
              "      <th>RM</th>\n",
              "      <th>AGE</th>\n",
              "      <th>DIS</th>\n",
              "      <th>RAD</th>\n",
              "      <th>TAX</th>\n",
              "      <th>PTRATIO</th>\n",
              "      <th>B</th>\n",
              "      <th>LSTAT</th>\n",
              "      <th>MEDV</th>\n",
              "    </tr>\n",
              "  </thead>\n",
              "  <tbody>\n",
              "    <tr>\n",
              "      <th>count</th>\n",
              "      <td>505.000000</td>\n",
              "      <td>505.000000</td>\n",
              "      <td>505.000000</td>\n",
              "      <td>505.000000</td>\n",
              "      <td>505.000000</td>\n",
              "      <td>505.000000</td>\n",
              "      <td>505.000000</td>\n",
              "      <td>505.000000</td>\n",
              "      <td>505.000000</td>\n",
              "      <td>505.000000</td>\n",
              "      <td>505.000000</td>\n",
              "      <td>505.000000</td>\n",
              "      <td>505.000000</td>\n",
              "      <td>505.000000</td>\n",
              "    </tr>\n",
              "    <tr>\n",
              "      <th>mean</th>\n",
              "      <td>3.620667</td>\n",
              "      <td>11.350495</td>\n",
              "      <td>11.154257</td>\n",
              "      <td>0.069307</td>\n",
              "      <td>0.554728</td>\n",
              "      <td>6.284059</td>\n",
              "      <td>68.581584</td>\n",
              "      <td>3.794459</td>\n",
              "      <td>9.566337</td>\n",
              "      <td>408.459406</td>\n",
              "      <td>18.461782</td>\n",
              "      <td>356.594376</td>\n",
              "      <td>12.668257</td>\n",
              "      <td>22.529901</td>\n",
              "    </tr>\n",
              "    <tr>\n",
              "      <th>std</th>\n",
              "      <td>8.608572</td>\n",
              "      <td>23.343704</td>\n",
              "      <td>6.855868</td>\n",
              "      <td>0.254227</td>\n",
              "      <td>0.115990</td>\n",
              "      <td>0.703195</td>\n",
              "      <td>28.176371</td>\n",
              "      <td>2.107757</td>\n",
              "      <td>8.707553</td>\n",
              "      <td>168.629992</td>\n",
              "      <td>2.162520</td>\n",
              "      <td>91.367787</td>\n",
              "      <td>7.139950</td>\n",
              "      <td>9.205991</td>\n",
              "    </tr>\n",
              "    <tr>\n",
              "      <th>min</th>\n",
              "      <td>0.009060</td>\n",
              "      <td>0.000000</td>\n",
              "      <td>0.460000</td>\n",
              "      <td>0.000000</td>\n",
              "      <td>0.385000</td>\n",
              "      <td>3.561000</td>\n",
              "      <td>2.900000</td>\n",
              "      <td>1.129600</td>\n",
              "      <td>1.000000</td>\n",
              "      <td>187.000000</td>\n",
              "      <td>12.600000</td>\n",
              "      <td>0.320000</td>\n",
              "      <td>1.730000</td>\n",
              "      <td>5.000000</td>\n",
              "    </tr>\n",
              "    <tr>\n",
              "      <th>25%</th>\n",
              "      <td>0.082210</td>\n",
              "      <td>0.000000</td>\n",
              "      <td>5.190000</td>\n",
              "      <td>0.000000</td>\n",
              "      <td>0.449000</td>\n",
              "      <td>5.885000</td>\n",
              "      <td>45.000000</td>\n",
              "      <td>2.100000</td>\n",
              "      <td>4.000000</td>\n",
              "      <td>279.000000</td>\n",
              "      <td>17.400000</td>\n",
              "      <td>375.330000</td>\n",
              "      <td>7.010000</td>\n",
              "      <td>17.000000</td>\n",
              "    </tr>\n",
              "    <tr>\n",
              "      <th>50%</th>\n",
              "      <td>0.259150</td>\n",
              "      <td>0.000000</td>\n",
              "      <td>9.690000</td>\n",
              "      <td>0.000000</td>\n",
              "      <td>0.538000</td>\n",
              "      <td>6.208000</td>\n",
              "      <td>77.700000</td>\n",
              "      <td>3.199200</td>\n",
              "      <td>5.000000</td>\n",
              "      <td>330.000000</td>\n",
              "      <td>19.100000</td>\n",
              "      <td>391.430000</td>\n",
              "      <td>11.380000</td>\n",
              "      <td>21.200000</td>\n",
              "    </tr>\n",
              "    <tr>\n",
              "      <th>75%</th>\n",
              "      <td>3.678220</td>\n",
              "      <td>12.500000</td>\n",
              "      <td>18.100000</td>\n",
              "      <td>0.000000</td>\n",
              "      <td>0.624000</td>\n",
              "      <td>6.625000</td>\n",
              "      <td>94.100000</td>\n",
              "      <td>5.211900</td>\n",
              "      <td>24.000000</td>\n",
              "      <td>666.000000</td>\n",
              "      <td>20.200000</td>\n",
              "      <td>396.210000</td>\n",
              "      <td>16.960000</td>\n",
              "      <td>25.000000</td>\n",
              "    </tr>\n",
              "    <tr>\n",
              "      <th>max</th>\n",
              "      <td>88.976200</td>\n",
              "      <td>100.000000</td>\n",
              "      <td>27.740000</td>\n",
              "      <td>1.000000</td>\n",
              "      <td>0.871000</td>\n",
              "      <td>8.780000</td>\n",
              "      <td>100.000000</td>\n",
              "      <td>12.126500</td>\n",
              "      <td>24.000000</td>\n",
              "      <td>711.000000</td>\n",
              "      <td>22.000000</td>\n",
              "      <td>396.900000</td>\n",
              "      <td>37.970000</td>\n",
              "      <td>50.000000</td>\n",
              "    </tr>\n",
              "  </tbody>\n",
              "</table>\n",
              "</div>"
            ],
            "text/plain": [
              "             CRIM          ZN       INDUS  ...           B       LSTAT        MEDV\n",
              "count  505.000000  505.000000  505.000000  ...  505.000000  505.000000  505.000000\n",
              "mean     3.620667   11.350495   11.154257  ...  356.594376   12.668257   22.529901\n",
              "std      8.608572   23.343704    6.855868  ...   91.367787    7.139950    9.205991\n",
              "min      0.009060    0.000000    0.460000  ...    0.320000    1.730000    5.000000\n",
              "25%      0.082210    0.000000    5.190000  ...  375.330000    7.010000   17.000000\n",
              "50%      0.259150    0.000000    9.690000  ...  391.430000   11.380000   21.200000\n",
              "75%      3.678220   12.500000   18.100000  ...  396.210000   16.960000   25.000000\n",
              "max     88.976200  100.000000   27.740000  ...  396.900000   37.970000   50.000000\n",
              "\n",
              "[8 rows x 14 columns]"
            ]
          },
          "metadata": {
            "tags": []
          },
          "execution_count": 105
        }
      ]
    },
    {
      "cell_type": "code",
      "metadata": {
        "colab": {
          "base_uri": "https://localhost:8080/",
          "height": 769
        },
        "id": "1up9TYTdEUER",
        "outputId": "38228d84-fc94-47e2-a746-3e42b79e2d76"
      },
      "source": [
        "import matplotlib.pyplot as plt\n",
        "housing.hist(bins=20, figsize=(20,15))\n",
        "plt.show()\n",
        "#save_fig(\"attribute_histogram_plots\")"
      ],
      "execution_count": null,
      "outputs": [
        {
          "output_type": "display_data",
          "data": {
            "image/png": "[encoded data removed]",
            "text/plain": [
              "<Figure size 1440x1080 with 16 Axes>"
            ]
          },
          "metadata": {
            "tags": [],
            "needs_background": "light"
          }
        }
      ]
    },
    {
      "cell_type": "code",
      "metadata": {
        "id": "MzckJMd3EjfW"
      },
      "source": [
        "from sklearn.model_selection import train_test_split\n",
        "# Split the data into train set (80%) and test set (20%)\n",
        "train_set, test_set = train_test_split(housing, test_size=0.2, random_state=30)"
      ],
      "execution_count": null,
      "outputs": []
    },
    {
      "cell_type": "code",
      "metadata": {
        "colab": {
          "base_uri": "https://localhost:8080/"
        },
        "id": "U2uiP23DEtqC",
        "outputId": "e043f62c-f7e5-4321-b569-5d0adce39b25"
      },
      "source": [
        "print( train_set.shape )\n",
        "print( test_set.shape ) # No peeking at the test data though (data snooping bias)"
      ],
      "execution_count": null,
      "outputs": [
        {
          "output_type": "stream",
          "text": [
            "(404, 14)\n",
            "(101, 14)\n"
          ],
          "name": "stdout"
        }
      ]
    },
    {
      "cell_type": "code",
      "metadata": {
        "colab": {
          "base_uri": "https://localhost:8080/",
          "height": 285
        },
        "id": "16A5QqWrolyW",
        "outputId": "64105577-2a55-48d8-fcb9-1b9d74ff8fb5"
      },
      "source": [
        "housing['LSTAT'].hist()"
      ],
      "execution_count": null,
      "outputs": [
        {
          "output_type": "execute_result",
          "data": {
            "text/plain": [
              "<matplotlib.axes._subplots.AxesSubplot at 0x7f3604cbf240>"
            ]
          },
          "metadata": {
            "tags": []
          },
          "execution_count": 109
        },
        {
          "output_type": "display_data",
          "data": {
            "image/png": "[encoded data removed]",
            "text/plain": [
              "<Figure size 432x288 with 1 Axes>"
            ]
          },
          "metadata": {
            "tags": [],
            "needs_background": "light"
          }
        }
      ]
    },
    {
      "cell_type": "markdown",
      "metadata": {
        "id": "7w-tScCtobKO"
      },
      "source": [
        "Looking at the histogram for LSTAT (The percent of the population with a lower status), we observe how the data is right skewed meaning it is tail heavy. It would therefore be beneficial to transform the data such that it has a more bell-shaped/normal distribution. After we produce this normal distribution, we can then use it to do stratified random sampling within the test set. Since the test set, in our case, is very small, doing stratified random sampling may be very beneficial "
      ]
    },
    {
      "cell_type": "code",
      "metadata": {
        "id": "6aI6xGq8p9H1"
      },
      "source": [
        "# Since this histogram is \"tail heavy\" (extends much farther to the right from the median and to the left)\n",
        "# We will try to transform this atrribute to have a more bell-shaped distribution\n",
        "housing[\"LSTAT_normal\"] = pd.cut(housing[\"LSTAT\"],\n",
        "                               bins=[0, 5, 10, 20, 30, np.inf],\n",
        "                               labels=[1, 2, 3, 4, 5])"
      ],
      "execution_count": null,
      "outputs": []
    },
    {
      "cell_type": "code",
      "metadata": {
        "colab": {
          "base_uri": "https://localhost:8080/"
        },
        "id": "4b5f7bt-qdaH",
        "outputId": "0f57687c-19d9-4264-c489-dfc488f9c387"
      },
      "source": [
        "housing[\"LSTAT_normal\"].value_counts()"
      ],
      "execution_count": null,
      "outputs": [
        {
          "output_type": "execute_result",
          "data": {
            "text/plain": [
              "3    213\n",
              "2    157\n",
              "4     62\n",
              "1     61\n",
              "5     12\n",
              "Name: LSTAT_normal, dtype: int64"
            ]
          },
          "metadata": {
            "tags": []
          },
          "execution_count": 111
        }
      ]
    },
    {
      "cell_type": "code",
      "metadata": {
        "colab": {
          "base_uri": "https://localhost:8080/",
          "height": 285
        },
        "id": "NwkbPNSLrSWs",
        "outputId": "4075bb67-33f1-4532-dfbe-1e00560d112e"
      },
      "source": [
        "housing[\"LSTAT_normal\"].hist()"
      ],
      "execution_count": null,
      "outputs": [
        {
          "output_type": "execute_result",
          "data": {
            "text/plain": [
              "<matplotlib.axes._subplots.AxesSubplot at 0x7f36053a9748>"
            ]
          },
          "metadata": {
            "tags": []
          },
          "execution_count": 112
        },
        {
          "output_type": "display_data",
          "data": {
            "image/png": "[encoded data removed]",
            "text/plain": [
              "<Figure size 432x288 with 1 Axes>"
            ]
          },
          "metadata": {
            "tags": [],
            "needs_background": "light"
          }
        }
      ]
    },
    {
      "cell_type": "markdown",
      "metadata": {
        "id": "Mt3QRzBVr4Fm"
      },
      "source": [
        "Now that the distribution looks more normal, we can conduct stratified sampling"
      ]
    },
    {
      "cell_type": "code",
      "metadata": {
        "id": "nfmJuNBwrxjW"
      },
      "source": [
        "from sklearn.model_selection import StratifiedShuffleSplit\n",
        "\n",
        "split = StratifiedShuffleSplit(n_splits=1, test_size=0.2, random_state=30)\n",
        "for train_index, test_index in split.split(housing, housing[\"LSTAT_normal\"]):\n",
        "    strat_train_set = housing.loc[train_index]\n",
        "    strat_test_set = housing.loc[test_index]"
      ],
      "execution_count": null,
      "outputs": []
    },
    {
      "cell_type": "code",
      "metadata": {
        "colab": {
          "base_uri": "https://localhost:8080/"
        },
        "id": "CavZKrtBsGWM",
        "outputId": "9d5520cd-4e99-4737-82ae-4ab9e46f7503"
      },
      "source": [
        "strat_test_set[\"LSTAT_normal\"].value_counts() / len(strat_test_set)"
      ],
      "execution_count": null,
      "outputs": [
        {
          "output_type": "execute_result",
          "data": {
            "text/plain": [
              "3    0.425743\n",
              "2    0.316832\n",
              "4    0.118812\n",
              "1    0.118812\n",
              "5    0.019802\n",
              "Name: LSTAT_normal, dtype: float64"
            ]
          },
          "metadata": {
            "tags": []
          },
          "execution_count": 114
        }
      ]
    },
    {
      "cell_type": "code",
      "metadata": {
        "colab": {
          "base_uri": "https://localhost:8080/"
        },
        "id": "1Qr3iWXQsJs5",
        "outputId": "ec157819-8087-4cbb-a0de-b4437119e80f"
      },
      "source": [
        "housing[\"LSTAT_normal\"].value_counts() / len(housing)"
      ],
      "execution_count": null,
      "outputs": [
        {
          "output_type": "execute_result",
          "data": {
            "text/plain": [
              "3    0.421782\n",
              "2    0.310891\n",
              "4    0.122772\n",
              "1    0.120792\n",
              "5    0.023762\n",
              "Name: LSTAT_normal, dtype: float64"
            ]
          },
          "metadata": {
            "tags": []
          },
          "execution_count": 115
        }
      ]
    },
    {
      "cell_type": "markdown",
      "metadata": {
        "id": "2-4SujYDZFmO"
      },
      "source": [
        "# Step 3 : Discover and visualize the data to get insights"
      ]
    },
    {
      "cell_type": "code",
      "metadata": {
        "id": "NY0qZ6i8tkAa"
      },
      "source": [
        "for set_ in (strat_train_set, strat_test_set):\n",
        "    set_.drop(\"LSTAT_normal\", axis = 1, inplace=True)"
      ],
      "execution_count": null,
      "outputs": []
    },
    {
      "cell_type": "code",
      "metadata": {
        "id": "isjOv8fMtooG"
      },
      "source": [
        "# Make a copy of the stratified train set\n",
        "housing = strat_train_set.copy()"
      ],
      "execution_count": null,
      "outputs": []
    },
    {
      "cell_type": "code",
      "metadata": {
        "colab": {
          "base_uri": "https://localhost:8080/"
        },
        "id": "e2a-wgYIZS6E",
        "outputId": "ce5ee609-0ace-4440-e38b-c4eae5374a60"
      },
      "source": [
        "# Use corr() to see the correlations (aka Standard Correlation Coefficient or Pearson's r) among the features of the dataset\n",
        "corr_matrix = housing.corr()\n",
        "corr_matrix.shape"
      ],
      "execution_count": null,
      "outputs": [
        {
          "output_type": "execute_result",
          "data": {
            "text/plain": [
              "(14, 14)"
            ]
          },
          "metadata": {
            "tags": []
          },
          "execution_count": 118
        }
      ]
    },
    {
      "cell_type": "code",
      "metadata": {
        "id": "GgsqyW6sanqr",
        "colab": {
          "base_uri": "https://localhost:8080/"
        },
        "outputId": "0e5bc6df-1c16-4a30-a844-695dd52338ef"
      },
      "source": [
        "# Let's look at how much each feature correlates to the house value \n",
        "corr_matrix[\"MEDV\"].sort_values(ascending=False)"
      ],
      "execution_count": null,
      "outputs": [
        {
          "output_type": "execute_result",
          "data": {
            "text/plain": [
              "MEDV       1.000000\n",
              "RM         0.742438\n",
              "ZN         0.380584\n",
              "B          0.318072\n",
              "DIS        0.267414\n",
              "CHAS       0.164014\n",
              "CRIM      -0.396053\n",
              "AGE       -0.405321\n",
              "RAD       -0.408058\n",
              "NOX       -0.437639\n",
              "TAX       -0.506625\n",
              "INDUS     -0.510658\n",
              "PTRATIO   -0.555008\n",
              "LSTAT     -0.736317\n",
              "Name: MEDV, dtype: float64"
            ]
          },
          "metadata": {
            "tags": []
          },
          "execution_count": 119
        }
      ]
    },
    {
      "cell_type": "markdown",
      "metadata": {
        "id": "6kUbkYAyoCQ3"
      },
      "source": [
        "We can see here that LSTAT and RM have the highest correlation with MEDV out of all the variables"
      ]
    },
    {
      "cell_type": "code",
      "metadata": {
        "colab": {
          "base_uri": "https://localhost:8080/",
          "height": 671
        },
        "id": "IqZM0Tx3SpqT",
        "outputId": "251b0407-6c0b-4e54-bff4-fe0c029ee3a5"
      },
      "source": [
        "# from pandas.tools.plotting import scatter_matrix # For older versions of Pandas\n",
        "from pandas.plotting import scatter_matrix\n",
        "\n",
        "attributes = [\"RM\", \"LSTAT\", \"MEDV\"]\n",
        "scatter_matrix(housing[attributes], figsize=(12, 8))\n",
        "# save_fig(\"scatter_matrix_plot\")"
      ],
      "execution_count": null,
      "outputs": [
        {
          "output_type": "execute_result",
          "data": {
            "text/plain": [
              "array([[<matplotlib.axes._subplots.AxesSubplot object at 0x7f3608937940>,\n",
              "        <matplotlib.axes._subplots.AxesSubplot object at 0x7f36049c9358>,\n",
              "        <matplotlib.axes._subplots.AxesSubplot object at 0x7f360497c5c0>],\n",
              "       [<matplotlib.axes._subplots.AxesSubplot object at 0x7f360492e828>,\n",
              "        <matplotlib.axes._subplots.AxesSubplot object at 0x7f36048dfeb8>,\n",
              "        <matplotlib.axes._subplots.AxesSubplot object at 0x7f360489c278>],\n",
              "       [<matplotlib.axes._subplots.AxesSubplot object at 0x7f36048cf5f8>,\n",
              "        <matplotlib.axes._subplots.AxesSubplot object at 0x7f3604882940>,\n",
              "        <matplotlib.axes._subplots.AxesSubplot object at 0x7f36048829b0>]],\n",
              "      dtype=object)"
            ]
          },
          "metadata": {
            "tags": []
          },
          "execution_count": 120
        },
        {
          "output_type": "display_data",
          "data": {
            "image/png": "[encoded data removed]",
            "text/plain": [
              "<Figure size 864x576 with 9 Axes>"
            ]
          },
          "metadata": {
            "tags": [],
            "needs_background": "light"
          }
        }
      ]
    },
    {
      "cell_type": "markdown",
      "metadata": {
        "id": "80mOoL_5YQkd"
      },
      "source": [
        "Feature Engineering: This refers to when multiple features can be combined together to creat a better and more meaningful feature. \n",
        "\n",
        "For reference, here's a list of all the features provided within the boston housing market dataset:\n",
        "- CRIM : per capita crime rate by town \n",
        "- ZN : proportion of residential land zoned for lots over 25,000 sq.ft. \n",
        "- INDUS : proportion of non-retail business acres per town \n",
        "- CHAS : Charles River dummy variable (= 1 if tract bounds river; 0 otherwise) \n",
        "- NOX : nitric oxides concentration (parts per 10 million) \n",
        "- RM : average number of rooms per dwelling \n",
        "- AGE proportion of owner-occupied units built prior to 1940 \n",
        "- DIS : weighted distances to five Boston employment \n",
        "centres \n",
        "- RAD : index of accessibility to radial highways \n",
        "- TAX : full-value property-tax rate per \\$10,000 \n",
        "- PTRATIO : pupil-teacher ratio by town \n",
        "- B : 1000(Bk - 0.63)^2 where Bk is the proportion of blacks by town \n",
        "- LSTAT : % lower status of the population \n",
        "- MEDV : Median value of owner-occupied homes in \\$1000's\n",
        "\n",
        "If we look at the different labels for this dataset, we do not have any combinable quantitative variables that will give better insight into the prediction of housing value. Therefore, in this particular situation, we will not be combining variables to create new features\n"
      ]
    },
    {
      "cell_type": "code",
      "metadata": {
        "colab": {
          "base_uri": "https://localhost:8080/",
          "height": 307
        },
        "id": "63XI8F22u4SH",
        "outputId": "e80ddd3e-5a8e-4cf1-f6e8-4269a57f99d4"
      },
      "source": [
        "housing.plot(kind=\"scatter\", x=\"LSTAT\", y=\"RM\")"
      ],
      "execution_count": null,
      "outputs": [
        {
          "output_type": "execute_result",
          "data": {
            "text/plain": [
              "<matplotlib.axes._subplots.AxesSubplot at 0x7f36049adc18>"
            ]
          },
          "metadata": {
            "tags": []
          },
          "execution_count": 121
        },
        {
          "output_type": "display_data",
          "data": {
            "image/png": "[encoded data removed]",
            "text/plain": [
              "<Figure size 432x288 with 1 Axes>"
            ]
          },
          "metadata": {
            "tags": [],
            "needs_background": "light"
          }
        }
      ]
    },
    {
      "cell_type": "code",
      "metadata": {
        "colab": {
          "base_uri": "https://localhost:8080/",
          "height": 307
        },
        "id": "m_wOs5Mxu9y5",
        "outputId": "31399b95-d8d5-4e50-b3a8-59117001cdab"
      },
      "source": [
        "# we set alpha equal to 0.3 to decrease the crowdedness of the plot\n",
        "housing.plot(kind=\"scatter\", x=\"LSTAT\", y=\"RM\", alpha = 0.3)"
      ],
      "execution_count": null,
      "outputs": [
        {
          "output_type": "execute_result",
          "data": {
            "text/plain": [
              "<matplotlib.axes._subplots.AxesSubplot at 0x7f3604678780>"
            ]
          },
          "metadata": {
            "tags": []
          },
          "execution_count": 122
        },
        {
          "output_type": "display_data",
          "data": {
            "image/png": "[encoded data removed]",
            "text/plain": [
              "<Figure size 432x288 with 1 Axes>"
            ]
          },
          "metadata": {
            "tags": [],
            "needs_background": "light"
          }
        }
      ]
    },
    {
      "cell_type": "code",
      "metadata": {
        "colab": {
          "base_uri": "https://localhost:8080/",
          "height": 325
        },
        "id": "SiZd17YMvy3Y",
        "outputId": "8722c252-20c9-47cd-c462-546e888e46a0"
      },
      "source": [
        "# Add color (jet map) for the value of the housing\n",
        "housing.plot(kind=\"scatter\", x=\"LSTAT\", y=\"RM\", alpha=0.5,\n",
        "    c=\"MEDV\", cmap=plt.get_cmap(\"jet\"), colorbar=True,\n",
        "    sharex=False)\n",
        "plt.legend()"
      ],
      "execution_count": null,
      "outputs": [
        {
          "output_type": "stream",
          "text": [
            "No handles with labels found to put in legend.\n"
          ],
          "name": "stderr"
        },
        {
          "output_type": "execute_result",
          "data": {
            "text/plain": [
              "<matplotlib.legend.Legend at 0x7f36046489b0>"
            ]
          },
          "metadata": {
            "tags": []
          },
          "execution_count": 123
        },
        {
          "output_type": "display_data",
          "data": {
            "image/png": "[encoded data removed]",
            "text/plain": [
              "<Figure size 432x288 with 2 Axes>"
            ]
          },
          "metadata": {
            "tags": [],
            "needs_background": "light"
          }
        }
      ]
    },
    {
      "cell_type": "markdown",
      "metadata": {
        "id": "GfH7RILYd9rn"
      },
      "source": [
        "# Step 4 : Cleaning the data / Preparing it for Machine Learning algorithms"
      ]
    },
    {
      "cell_type": "code",
      "metadata": {
        "id": "7fcg_jgdeESt"
      },
      "source": [
        "# Create the features and labels for training\n",
        "housing = strat_train_set.drop(\"MEDV\", axis=1) # drop labels for training set\n",
        "housing_labels = strat_train_set[\"MEDV\"].copy()"
      ],
      "execution_count": null,
      "outputs": []
    },
    {
      "cell_type": "code",
      "metadata": {
        "colab": {
          "base_uri": "https://localhost:8080/",
          "height": 49
        },
        "id": "TfTuSIE71YvZ",
        "outputId": "4a7cf21a-b125-4632-eabd-4b85fd19c221"
      },
      "source": [
        "# Check to see if there's any missing value in the data with .isnull()\n",
        "sample_incomplete_rows = housing[housing.isnull().any(axis=1)].head()\n",
        "sample_incomplete_rows"
      ],
      "execution_count": null,
      "outputs": [
        {
          "output_type": "execute_result",
          "data": {
            "text/html": [
              "<div>\n",
              "<style scoped>\n",
              "    .dataframe tbody tr th:only-of-type {\n",
              "        vertical-align: middle;\n",
              "    }\n",
              "\n",
              "    .dataframe tbody tr th {\n",
              "        vertical-align: top;\n",
              "    }\n",
              "\n",
              "    .dataframe thead th {\n",
              "        text-align: right;\n",
              "    }\n",
              "</style>\n",
              "<table border=\"1\" class=\"dataframe\">\n",
              "  <thead>\n",
              "    <tr style=\"text-align: right;\">\n",
              "      <th></th>\n",
              "      <th>CRIM</th>\n",
              "      <th>ZN</th>\n",
              "      <th>INDUS</th>\n",
              "      <th>CHAS</th>\n",
              "      <th>NOX</th>\n",
              "      <th>RM</th>\n",
              "      <th>AGE</th>\n",
              "      <th>DIS</th>\n",
              "      <th>RAD</th>\n",
              "      <th>TAX</th>\n",
              "      <th>PTRATIO</th>\n",
              "      <th>B</th>\n",
              "      <th>LSTAT</th>\n",
              "    </tr>\n",
              "  </thead>\n",
              "  <tbody>\n",
              "  </tbody>\n",
              "</table>\n",
              "</div>"
            ],
            "text/plain": [
              "Empty DataFrame\n",
              "Columns: [CRIM, ZN, INDUS, CHAS, NOX, RM, AGE, DIS, RAD, TAX, PTRATIO, B, LSTAT]\n",
              "Index: []"
            ]
          },
          "metadata": {
            "tags": []
          },
          "execution_count": 143
        }
      ]
    },
    {
      "cell_type": "markdown",
      "metadata": {
        "id": "UZyGfPO81eVN"
      },
      "source": [
        "Since there are no incomplete rows, we don't have to deal with missing data"
      ]
    },
    {
      "cell_type": "markdown",
      "metadata": {
        "id": "JZF00eaR6hCG"
      },
      "source": [
        "Additionally, since there are no categorical variables, no preprocessing of categorical variables is necessary"
      ]
    },
    {
      "cell_type": "markdown",
      "metadata": {
        "id": "senlywBZ-27O"
      },
      "source": [
        "We now want to create the pipeline where an imputer and a standard scaler can be used sequentially. Although we don't need an imputer in our case, we include it within the pipeline to streamline the process in case future incoming data has any missing values. The standard scaler takes all the values within a feature and standardizes them allowing for machine learning algorithms to perform much better"
      ]
    },
    {
      "cell_type": "code",
      "metadata": {
        "id": "b5nHVNKD2WVv"
      },
      "source": [
        "from sklearn.pipeline import Pipeline\n",
        "from sklearn.impute import SimpleImputer\n",
        "from sklearn.preprocessing import StandardScaler\n",
        "\n",
        "num_pipeline = Pipeline([\n",
        "        ('imputer', SimpleImputer(strategy=\"median\")),\n",
        "        ('std_scaler', StandardScaler()),\n",
        "    ])\n",
        "\n",
        "housing_prepared = num_pipeline.fit_transform(housing)"
      ],
      "execution_count": null,
      "outputs": []
    },
    {
      "cell_type": "code",
      "metadata": {
        "colab": {
          "base_uri": "https://localhost:8080/"
        },
        "id": "G_1gfHAyAbXy",
        "outputId": "f6d98620-2a1d-4f04-8bbd-f548becbef45"
      },
      "source": [
        "housing_prepared"
      ],
      "execution_count": null,
      "outputs": [
        {
          "output_type": "execute_result",
          "data": {
            "text/plain": [
              "array([[-0.38853793, -0.48581648, -0.63244445, ..., -0.24600137,\n",
              "         0.44094661,  2.53949548],\n",
              "       [-0.38697745, -0.48581648, -0.23203914, ...,  0.34911571,\n",
              "         0.44094661,  0.20592335],\n",
              "       [-0.41097195, -0.48581648,  0.0905896 , ...,  1.17312398,\n",
              "         0.44094661, -0.49512585],\n",
              "       ...,\n",
              "       [ 0.20052064, -0.48581648,  0.97925893, ...,  0.80689808,\n",
              "         0.42247086, -0.7842039 ],\n",
              "       [-0.41109025,  2.48539678, -1.30506775, ..., -1.66512671,\n",
              "         0.3720617 , -0.91547606],\n",
              "       [-0.03204462, -0.48581648,  0.97925893, ...,  0.80689808,\n",
              "         0.40068772,  0.24223267]])"
            ]
          },
          "metadata": {
            "tags": []
          },
          "execution_count": 145
        }
      ]
    },
    {
      "cell_type": "markdown",
      "metadata": {
        "id": "92QAkF6nEUmn"
      },
      "source": [
        "# Step 5 : Select and train a model"
      ]
    },
    {
      "cell_type": "code",
      "metadata": {
        "colab": {
          "base_uri": "https://localhost:8080/"
        },
        "id": "l9yhYH1tEiHI",
        "outputId": "2d90a125-b51b-4dda-865f-34ed29679342"
      },
      "source": [
        "# Let's start out with a basic linear regression model\n",
        "from sklearn.linear_model import LinearRegression\n",
        "\n",
        "lin_reg = LinearRegression()\n",
        "lin_reg.fit(housing_prepared, housing_labels)"
      ],
      "execution_count": null,
      "outputs": [
        {
          "output_type": "execute_result",
          "data": {
            "text/plain": [
              "LinearRegression(copy_X=True, fit_intercept=True, n_jobs=None, normalize=False)"
            ]
          },
          "metadata": {
            "tags": []
          },
          "execution_count": 146
        }
      ]
    },
    {
      "cell_type": "code",
      "metadata": {
        "colab": {
          "base_uri": "https://localhost:8080/"
        },
        "id": "OrZiJUC0GO3f",
        "outputId": "ecdfe7e4-7ab0-49f9-86a9-beeeee822c91"
      },
      "source": [
        "# let's try the num pipeline on a few training instances\n",
        "some_data = housing.iloc[:5]\n",
        "some_labels = housing_labels.iloc[:5]\n",
        "some_data_prepared = num_pipeline.transform(some_data)\n",
        "# only using transform() here because we are simply trying to get the data through the pipeline rather than trying to learn any parameter (ie. median)\n",
        "\n",
        "print(\"Predictions:\", lin_reg.predict(some_data_prepared))"
      ],
      "execution_count": null,
      "outputs": [
        {
          "output_type": "stream",
          "text": [
            "Predictions: [11.13245596 18.9159191  21.55859256 17.05170792 17.14949924]\n"
          ],
          "name": "stdout"
        }
      ]
    },
    {
      "cell_type": "markdown",
      "metadata": {
        "id": "MXmt9xzEHOzm"
      },
      "source": [
        "Now let's compare these predictions to the actual data"
      ]
    },
    {
      "cell_type": "code",
      "metadata": {
        "colab": {
          "base_uri": "https://localhost:8080/"
        },
        "id": "MAc2-MFTHA-j",
        "outputId": "9f5d80a9-8f7b-4004-933c-554e438370d2"
      },
      "source": [
        "print(\"Labels:\", list(some_labels))"
      ],
      "execution_count": null,
      "outputs": [
        {
          "output_type": "stream",
          "text": [
            "Labels: [14.4, 18.3, 20.6, 19.9, 19.6]\n"
          ],
          "name": "stdout"
        }
      ]
    },
    {
      "cell_type": "code",
      "metadata": {
        "colab": {
          "base_uri": "https://localhost:8080/"
        },
        "id": "f91icUQsHdHf",
        "outputId": "75eec29b-fd07-4e05-a62e-f877bb914413"
      },
      "source": [
        "some_data_prepared"
      ],
      "execution_count": null,
      "outputs": [
        {
          "output_type": "execute_result",
          "data": {
            "text/plain": [
              "array([[-0.38853793, -0.48581648, -0.63244445, -0.26761547, -0.93798887,\n",
              "        -1.26015383,  0.93896293,  0.99782268, -0.75204506, -1.04739665,\n",
              "        -0.24600137,  0.44094661,  2.53949548],\n",
              "       [-0.38697745, -0.48581648, -0.23203914, -0.26761547,  0.24576845,\n",
              "        -0.71109403,  0.06004325, -0.42085047, -0.40822061, -0.11217084,\n",
              "         0.34911571,  0.44094661,  0.20592335],\n",
              "       [-0.41097195, -0.48581648,  0.0905896 , -0.26761547,  0.14208168,\n",
              "        -0.25794594,  0.27710438, -0.70922618, -0.98126135, -0.81063062,\n",
              "         1.17312398,  0.44094661, -0.49512585],\n",
              "       [-0.0756092 , -0.48581648,  0.97925893, -0.26761547,  0.85060795,\n",
              "        -0.7597449 , -0.73703372, -0.33803537,  1.65472607,  1.51559562,\n",
              "         0.80689808, -0.27185258,  0.21011289],\n",
              "       [-0.25491787, -0.48581648,  1.19242435, -0.26761547,  2.71696985,\n",
              "        -1.25320371,  1.10620676, -1.04082012, -0.52282876, -0.04114103,\n",
              "        -1.71090495, -0.18973811,  0.09140934]])"
            ]
          },
          "metadata": {
            "tags": []
          },
          "execution_count": 149
        }
      ]
    },
    {
      "cell_type": "markdown",
      "metadata": {
        "id": "XADfWZmXJj3b"
      },
      "source": [
        "Next, we find the Root Mean Squared Error and the Mean Absolute Error of the linear regression model on the entire training set\n"
      ]
    },
    {
      "cell_type": "code",
      "metadata": {
        "colab": {
          "base_uri": "https://localhost:8080/"
        },
        "id": "lDM9WC5BH6Zd",
        "outputId": "1be4394a-91cb-46a6-9194-3593eae8f5d3"
      },
      "source": [
        "from sklearn.metrics import mean_squared_error\n",
        "\n",
        "housing_predictions = lin_reg.predict(housing_prepared)\n",
        "lin_mse = mean_squared_error(housing_labels, housing_predictions)\n",
        "lin_rmse = np.sqrt(lin_mse)\n",
        "lin_rmse"
      ],
      "execution_count": null,
      "outputs": [
        {
          "output_type": "execute_result",
          "data": {
            "text/plain": [
              "4.416816428565955"
            ]
          },
          "metadata": {
            "tags": []
          },
          "execution_count": 150
        }
      ]
    },
    {
      "cell_type": "code",
      "metadata": {
        "colab": {
          "base_uri": "https://localhost:8080/"
        },
        "id": "pkSO2Ju_KR94",
        "outputId": "c68fe972-22ab-433d-8635-16d7ebb58f7e"
      },
      "source": [
        "from sklearn.metrics import mean_absolute_error\n",
        "\n",
        "lin_mae = mean_absolute_error(housing_labels, housing_predictions)\n",
        "lin_mae"
      ],
      "execution_count": null,
      "outputs": [
        {
          "output_type": "execute_result",
          "data": {
            "text/plain": [
              "3.161101593358119"
            ]
          },
          "metadata": {
            "tags": []
          },
          "execution_count": 151
        }
      ]
    },
    {
      "cell_type": "markdown",
      "metadata": {
        "id": "XJGvr7nPJ0iQ"
      },
      "source": [
        "These values are pretty satisfactory but we should also take a look at other Machine Learning algorithms"
      ]
    },
    {
      "cell_type": "code",
      "metadata": {
        "colab": {
          "base_uri": "https://localhost:8080/"
        },
        "id": "GUlyl3vIJ6VL",
        "outputId": "4fe0e98b-9f8c-45bf-fa6d-7f02e45bbca5"
      },
      "source": [
        "from sklearn.tree import DecisionTreeRegressor\n",
        "\n",
        "tree_reg = DecisionTreeRegressor(random_state=30)\n",
        "tree_reg.fit(housing_prepared, housing_labels)"
      ],
      "execution_count": null,
      "outputs": [
        {
          "output_type": "execute_result",
          "data": {
            "text/plain": [
              "DecisionTreeRegressor(ccp_alpha=0.0, criterion='mse', max_depth=None,\n",
              "                      max_features=None, max_leaf_nodes=None,\n",
              "                      min_impurity_decrease=0.0, min_impurity_split=None,\n",
              "                      min_samples_leaf=1, min_samples_split=2,\n",
              "                      min_weight_fraction_leaf=0.0, presort='deprecated',\n",
              "                      random_state=30, splitter='best')"
            ]
          },
          "metadata": {
            "tags": []
          },
          "execution_count": 152
        }
      ]
    },
    {
      "cell_type": "code",
      "metadata": {
        "colab": {
          "base_uri": "https://localhost:8080/"
        },
        "id": "yqMox2YPLPXC",
        "outputId": "0fcafab7-82a1-46a0-fcdf-61e3e7328d9e"
      },
      "source": [
        "housing_predictions = tree_reg.predict(housing_prepared)\n",
        "tree_mse = mean_squared_error(housing_labels, housing_predictions)\n",
        "tree_rmse = np.sqrt(tree_mse)\n",
        "tree_rmse"
      ],
      "execution_count": null,
      "outputs": [
        {
          "output_type": "execute_result",
          "data": {
            "text/plain": [
              "0.0"
            ]
          },
          "metadata": {
            "tags": []
          },
          "execution_count": 153
        }
      ]
    },
    {
      "cell_type": "markdown",
      "metadata": {
        "id": "Yk8IYf9mLg9V"
      },
      "source": [
        "Since there is absolutely no error, it is very likely that this algorithm has badly overfit the data. Once this predictor is run on never before seen test data, the errors will most likely be much higher. This is where we use k-fold cross validation, dividing the training set into a validation and training set."
      ]
    },
    {
      "cell_type": "code",
      "metadata": {
        "id": "cCAdgQiHMBjx"
      },
      "source": [
        "from sklearn.model_selection import cross_val_score\n",
        "\n",
        "scores = cross_val_score(tree_reg, housing_prepared, housing_labels,\n",
        "                         scoring=\"neg_mean_squared_error\", cv=5)\n",
        "tree_rmse_scores = np.sqrt(-scores)"
      ],
      "execution_count": null,
      "outputs": []
    },
    {
      "cell_type": "code",
      "metadata": {
        "colab": {
          "base_uri": "https://localhost:8080/"
        },
        "id": "KMz0XOcAOeqZ",
        "outputId": "f28be16b-dea9-4724-b9c1-14b0a12ebb20"
      },
      "source": [
        "def display_scores(scores):\n",
        "    print(\"Scores:\", scores)\n",
        "    print(\"Mean:\", scores.mean())\n",
        "    print(\"Standard deviation:\", scores.std())\n",
        "\n",
        "display_scores(tree_rmse_scores)"
      ],
      "execution_count": null,
      "outputs": [
        {
          "output_type": "stream",
          "text": [
            "Scores: [5.40046866 5.33864319 3.89207806 5.74648578 4.12633312]\n",
            "Mean: 4.9008017597808875\n",
            "Standard deviation: 0.7448327015537567\n"
          ],
          "name": "stdout"
        }
      ]
    },
    {
      "cell_type": "markdown",
      "metadata": {
        "id": "nGPJ74FIOmVm"
      },
      "source": [
        "Doing similar cross validation with the linear regression model, we get:"
      ]
    },
    {
      "cell_type": "code",
      "metadata": {
        "colab": {
          "base_uri": "https://localhost:8080/"
        },
        "id": "giOup_rcOr9j",
        "outputId": "13d84b30-ae05-41f2-d6a5-3637b0200c8c"
      },
      "source": [
        "lin_scores = cross_val_score(lin_reg, housing_prepared, housing_labels,\n",
        "                             scoring=\"neg_mean_squared_error\", cv=5)\n",
        "lin_rmse_scores = np.sqrt(-lin_scores)\n",
        "display_scores(lin_rmse_scores)"
      ],
      "execution_count": null,
      "outputs": [
        {
          "output_type": "stream",
          "text": [
            "Scores: [5.70534172 4.81005412 3.65889973 4.67447047 4.57307002]\n",
            "Mean: 4.684367212032775\n",
            "Standard deviation: 0.6514989978940287\n"
          ],
          "name": "stdout"
        }
      ]
    },
    {
      "cell_type": "markdown",
      "metadata": {
        "id": "0ThSzdFCPAfY"
      },
      "source": [
        "Let's also try the Random Forrest Regressor"
      ]
    },
    {
      "cell_type": "code",
      "metadata": {
        "colab": {
          "base_uri": "https://localhost:8080/"
        },
        "id": "-TJjsLEpO_VL",
        "outputId": "9b1b503e-daf1-449d-d32b-1fec27f25e13"
      },
      "source": [
        "from sklearn.ensemble import RandomForestRegressor\n",
        "\n",
        "forest_reg = RandomForestRegressor(n_estimators=100, random_state=30)\n",
        "forest_reg.fit(housing_prepared, housing_labels)"
      ],
      "execution_count": null,
      "outputs": [
        {
          "output_type": "execute_result",
          "data": {
            "text/plain": [
              "RandomForestRegressor(bootstrap=True, ccp_alpha=0.0, criterion='mse',\n",
              "                      max_depth=None, max_features='auto', max_leaf_nodes=None,\n",
              "                      max_samples=None, min_impurity_decrease=0.0,\n",
              "                      min_impurity_split=None, min_samples_leaf=1,\n",
              "                      min_samples_split=2, min_weight_fraction_leaf=0.0,\n",
              "                      n_estimators=100, n_jobs=None, oob_score=False,\n",
              "                      random_state=30, verbose=0, warm_start=False)"
            ]
          },
          "metadata": {
            "tags": []
          },
          "execution_count": 157
        }
      ]
    },
    {
      "cell_type": "code",
      "metadata": {
        "colab": {
          "base_uri": "https://localhost:8080/"
        },
        "id": "gSOfis2EPigi",
        "outputId": "854f8a9a-a9c4-4e6a-e4ff-7d3ede0ad2b2"
      },
      "source": [
        "housing_predictions = forest_reg.predict(housing_prepared)\n",
        "forest_mse = mean_squared_error(housing_labels, housing_predictions)\n",
        "forest_rmse = np.sqrt(forest_mse)\n",
        "forest_rmse"
      ],
      "execution_count": null,
      "outputs": [
        {
          "output_type": "execute_result",
          "data": {
            "text/plain": [
              "1.2216428761433027"
            ]
          },
          "metadata": {
            "tags": []
          },
          "execution_count": 158
        }
      ]
    },
    {
      "cell_type": "code",
      "metadata": {
        "colab": {
          "base_uri": "https://localhost:8080/"
        },
        "id": "ay7XeIWhP4n-",
        "outputId": "309af42f-8e7d-4aa7-de4a-4f59471cb0b4"
      },
      "source": [
        "from sklearn.model_selection import cross_val_score\n",
        "\n",
        "forest_scores = cross_val_score(forest_reg, housing_prepared, housing_labels,\n",
        "                                scoring=\"neg_mean_squared_error\", cv=5)\n",
        "forest_rmse_scores = np.sqrt(-forest_scores)\n",
        "display_scores(forest_rmse_scores)"
      ],
      "execution_count": null,
      "outputs": [
        {
          "output_type": "stream",
          "text": [
            "Scores: [5.08932902 3.47719547 2.76411462 3.68774526 2.66132508]\n",
            "Mean: 3.535941889847124\n",
            "Standard deviation: 0.8718003078564874\n"
          ],
          "name": "stdout"
        }
      ]
    },
    {
      "cell_type": "markdown",
      "metadata": {
        "id": "cBvrBZf8QOZJ"
      },
      "source": [
        "The random forest algorithm gives the best RMSE values out of the three ML models after 10-fold corss validation"
      ]
    },
    {
      "cell_type": "markdown",
      "metadata": {
        "id": "NbSoZ9kTQjmq"
      },
      "source": [
        "# Step 6 : Fine tuning the model"
      ]
    },
    {
      "cell_type": "markdown",
      "metadata": {
        "id": "RuOopC36Q37P"
      },
      "source": [
        "By fine tuning the model, our goal is to find the best set of hyperparameters for our selected model"
      ]
    },
    {
      "cell_type": "code",
      "metadata": {
        "colab": {
          "base_uri": "https://localhost:8080/"
        },
        "id": "jHeb7KwuQaBH",
        "outputId": "1f2d05e2-1aaf-4387-89f4-97d2ca49da58"
      },
      "source": [
        "from sklearn.model_selection import GridSearchCV\n",
        "\n",
        "param_grid = [\n",
        "    # try 12 (3×4) combinations of hyperparameters\n",
        "    {'n_estimators': [3, 10, 30], 'max_features': [2, 4, 6, 8]},\n",
        "    # then try 6 (2×3) combinations with bootstrap set as False\n",
        "    {'bootstrap': [False], 'n_estimators': [3, 10], 'max_features': [2, 3, 4]},\n",
        "  ]\n",
        "\n",
        "forest_reg = RandomForestRegressor(random_state=30)\n",
        "# train across 5 folds, that's a total of 90 rounds of training \n",
        "grid_search = GridSearchCV(forest_reg, param_grid, cv=5,\n",
        "                           scoring='neg_mean_squared_error',\n",
        "                           return_train_score=True)\n",
        "grid_search.fit(housing_prepared, housing_labels)"
      ],
      "execution_count": null,
      "outputs": [
        {
          "output_type": "execute_result",
          "data": {
            "text/plain": [
              "GridSearchCV(cv=5, error_score=nan,\n",
              "             estimator=RandomForestRegressor(bootstrap=True, ccp_alpha=0.0,\n",
              "                                             criterion='mse', max_depth=None,\n",
              "                                             max_features='auto',\n",
              "                                             max_leaf_nodes=None,\n",
              "                                             max_samples=None,\n",
              "                                             min_impurity_decrease=0.0,\n",
              "                                             min_impurity_split=None,\n",
              "                                             min_samples_leaf=1,\n",
              "                                             min_samples_split=2,\n",
              "                                             min_weight_fraction_leaf=0.0,\n",
              "                                             n_estimators=100, n_jobs=None,\n",
              "                                             oob_score=False, random_state=30,\n",
              "                                             verbose=0, warm_start=False),\n",
              "             iid='deprecated', n_jobs=None,\n",
              "             param_grid=[{'max_features': [2, 4, 6, 8],\n",
              "                          'n_estimators': [3, 10, 30]},\n",
              "                         {'bootstrap': [False], 'max_features': [2, 3, 4],\n",
              "                          'n_estimators': [3, 10]}],\n",
              "             pre_dispatch='2*n_jobs', refit=True, return_train_score=True,\n",
              "             scoring='neg_mean_squared_error', verbose=0)"
            ]
          },
          "metadata": {
            "tags": []
          },
          "execution_count": 160
        }
      ]
    },
    {
      "cell_type": "markdown",
      "metadata": {
        "id": "HeSep9YjajQf"
      },
      "source": [
        "The best hyperparameter combination found  from the grid search was: "
      ]
    },
    {
      "cell_type": "code",
      "metadata": {
        "colab": {
          "base_uri": "https://localhost:8080/"
        },
        "id": "jHPeJLb7aK2O",
        "outputId": "7a8bb1c3-0d63-4f80-d592-11d1b3aa2edb"
      },
      "source": [
        "grid_search.best_params_"
      ],
      "execution_count": null,
      "outputs": [
        {
          "output_type": "execute_result",
          "data": {
            "text/plain": [
              "{'max_features': 8, 'n_estimators': 30}"
            ]
          },
          "metadata": {
            "tags": []
          },
          "execution_count": 161
        }
      ]
    },
    {
      "cell_type": "code",
      "metadata": {
        "colab": {
          "base_uri": "https://localhost:8080/"
        },
        "id": "4Gv2Xtzkavkc",
        "outputId": "e8bd8170-2ae9-48a5-db89-058086316484"
      },
      "source": [
        "grid_search.best_estimator_"
      ],
      "execution_count": null,
      "outputs": [
        {
          "output_type": "execute_result",
          "data": {
            "text/plain": [
              "RandomForestRegressor(bootstrap=True, ccp_alpha=0.0, criterion='mse',\n",
              "                      max_depth=None, max_features=8, max_leaf_nodes=None,\n",
              "                      max_samples=None, min_impurity_decrease=0.0,\n",
              "                      min_impurity_split=None, min_samples_leaf=1,\n",
              "                      min_samples_split=2, min_weight_fraction_leaf=0.0,\n",
              "                      n_estimators=30, n_jobs=None, oob_score=False,\n",
              "                      random_state=30, verbose=0, warm_start=False)"
            ]
          },
          "metadata": {
            "tags": []
          },
          "execution_count": 162
        }
      ]
    },
    {
      "cell_type": "code",
      "metadata": {
        "colab": {
          "base_uri": "https://localhost:8080/"
        },
        "id": "Ls5nBwLSaxGI",
        "outputId": "187b6f51-82e8-4000-89a6-150b403a2c3c"
      },
      "source": [
        "cvres = grid_search.cv_results_\n",
        "# zip() is to combine the column \"mean_test_score\" with struct \"params\"\n",
        "for mean_score, params in zip(cvres[\"mean_test_score\"], cvres[\"params\"]):\n",
        "    print(np.sqrt(-mean_score), params)"
      ],
      "execution_count": null,
      "outputs": [
        {
          "output_type": "stream",
          "text": [
            "4.649695625538396 {'max_features': 2, 'n_estimators': 3}\n",
            "3.9437659709915107 {'max_features': 2, 'n_estimators': 10}\n",
            "3.856721434356158 {'max_features': 2, 'n_estimators': 30}\n",
            "4.0914758992683256 {'max_features': 4, 'n_estimators': 3}\n",
            "3.6891439825620886 {'max_features': 4, 'n_estimators': 10}\n",
            "3.6973121120033308 {'max_features': 4, 'n_estimators': 30}\n",
            "4.21424454255705 {'max_features': 6, 'n_estimators': 3}\n",
            "3.7273146777257913 {'max_features': 6, 'n_estimators': 10}\n",
            "3.6332115178544875 {'max_features': 6, 'n_estimators': 30}\n",
            "4.395067123557515 {'max_features': 8, 'n_estimators': 3}\n",
            "3.819532579185153 {'max_features': 8, 'n_estimators': 10}\n",
            "3.5825273276693848 {'max_features': 8, 'n_estimators': 30}\n",
            "4.555616914672592 {'bootstrap': False, 'max_features': 2, 'n_estimators': 3}\n",
            "3.9832196996808906 {'bootstrap': False, 'max_features': 2, 'n_estimators': 10}\n",
            "4.566812619697611 {'bootstrap': False, 'max_features': 3, 'n_estimators': 3}\n",
            "3.9640922917524084 {'bootstrap': False, 'max_features': 3, 'n_estimators': 10}\n",
            "3.7007946121497843 {'bootstrap': False, 'max_features': 4, 'n_estimators': 3}\n",
            "3.6117848687694014 {'bootstrap': False, 'max_features': 4, 'n_estimators': 10}\n"
          ],
          "name": "stdout"
        }
      ]
    },
    {
      "cell_type": "markdown",
      "metadata": {
        "id": "adrFMtv8bk8G"
      },
      "source": [
        "We can also use RandomizedSearchCV since our hyperparameter space is very large"
      ]
    },
    {
      "cell_type": "code",
      "metadata": {
        "colab": {
          "base_uri": "https://localhost:8080/"
        },
        "id": "iFSwqQ3hbx1K",
        "outputId": "945846d0-4c40-463c-bf36-a11f37838c03"
      },
      "source": [
        "from sklearn.model_selection import RandomizedSearchCV\n",
        "from scipy.stats import randint\n",
        "\n",
        "param_distribs = {\n",
        "        'n_estimators': randint(low=1, high=200),\n",
        "        'max_features': randint(low=1, high=8),\n",
        "    }\n",
        "\n",
        "forest_reg = RandomForestRegressor(random_state=30)\n",
        "rnd_search = RandomizedSearchCV(forest_reg, param_distributions=param_distribs,\n",
        "                                n_iter=10, cv=5, scoring='neg_mean_squared_error', random_state=30)\n",
        "rnd_search.fit(housing_prepared, housing_labels)"
      ],
      "execution_count": null,
      "outputs": [
        {
          "output_type": "execute_result",
          "data": {
            "text/plain": [
              "RandomizedSearchCV(cv=5, error_score=nan,\n",
              "                   estimator=RandomForestRegressor(bootstrap=True,\n",
              "                                                   ccp_alpha=0.0,\n",
              "                                                   criterion='mse',\n",
              "                                                   max_depth=None,\n",
              "                                                   max_features='auto',\n",
              "                                                   max_leaf_nodes=None,\n",
              "                                                   max_samples=None,\n",
              "                                                   min_impurity_decrease=0.0,\n",
              "                                                   min_impurity_split=None,\n",
              "                                                   min_samples_leaf=1,\n",
              "                                                   min_samples_split=2,\n",
              "                                                   min_weight_fraction_leaf=0.0,\n",
              "                                                   n_estimators=100,\n",
              "                                                   n_jobs=None, oob_score=Fals...\n",
              "                                                   warm_start=False),\n",
              "                   iid='deprecated', n_iter=10, n_jobs=None,\n",
              "                   param_distributions={'max_features': <scipy.stats._distn_infrastructure.rv_frozen object at 0x7f3604548f28>,\n",
              "                                        'n_estimators': <scipy.stats._distn_infrastructure.rv_frozen object at 0x7f3604548898>},\n",
              "                   pre_dispatch='2*n_jobs', random_state=30, refit=True,\n",
              "                   return_train_score=False, scoring='neg_mean_squared_error',\n",
              "                   verbose=0)"
            ]
          },
          "metadata": {
            "tags": []
          },
          "execution_count": 164
        }
      ]
    },
    {
      "cell_type": "code",
      "metadata": {
        "colab": {
          "base_uri": "https://localhost:8080/"
        },
        "id": "jYfcNGFqcLlU",
        "outputId": "43b80cd6-8247-42f2-c9f1-3d3b1e735a52"
      },
      "source": [
        "cvres = rnd_search.cv_results_\n",
        "for mean_score, params in zip(cvres[\"mean_test_score\"], cvres[\"params\"]):\n",
        "    print(np.sqrt(-mean_score), params)"
      ],
      "execution_count": null,
      "outputs": [
        {
          "output_type": "stream",
          "text": [
            "3.5465820332521885 {'max_features': 6, 'n_estimators': 166}\n",
            "3.5903085446328764 {'max_features': 6, 'n_estimators': 46}\n",
            "3.5485384320310893 {'max_features': 5, 'n_estimators': 141}\n",
            "3.709036047398884 {'max_features': 3, 'n_estimators': 54}\n",
            "3.600836584425702 {'max_features': 4, 'n_estimators': 146}\n",
            "3.5172770331167778 {'max_features': 7, 'n_estimators': 132}\n",
            "3.98278412866041 {'max_features': 2, 'n_estimators': 8}\n",
            "3.8246762080956263 {'max_features': 2, 'n_estimators': 178}\n",
            "3.5477848302961177 {'max_features': 6, 'n_estimators': 190}\n",
            "3.694365887570026 {'max_features': 4, 'n_estimators': 19}\n"
          ],
          "name": "stdout"
        }
      ]
    },
    {
      "cell_type": "markdown",
      "metadata": {
        "id": "A_4abk3QehQZ"
      },
      "source": [
        "By inspecting the best model, we can find the relative importance of each attribute in predicting the median value of owner occupied homes"
      ]
    },
    {
      "cell_type": "code",
      "metadata": {
        "colab": {
          "base_uri": "https://localhost:8080/"
        },
        "id": "6tNcZ3qFc04s",
        "outputId": "2c9938e2-8079-45d4-b730-b6c373f36550"
      },
      "source": [
        "feature_importances = grid_search.best_estimator_.feature_importances_\n",
        "feature_importances"
      ],
      "execution_count": null,
      "outputs": [
        {
          "output_type": "execute_result",
          "data": {
            "text/plain": [
              "array([2.94734984e-02, 1.19067323e-03, 4.91605560e-02, 4.32047616e-04,\n",
              "       3.17774640e-02, 4.59793910e-01, 2.21937181e-02, 4.68920951e-02,\n",
              "       4.54775809e-03, 1.50194656e-02, 5.51985304e-02, 1.34582657e-02,\n",
              "       2.70862018e-01])"
            ]
          },
          "metadata": {
            "tags": []
          },
          "execution_count": 166
        }
      ]
    },
    {
      "cell_type": "code",
      "metadata": {
        "colab": {
          "base_uri": "https://localhost:8080/"
        },
        "id": "RtdIYuHLc82W",
        "outputId": "00d74f94-414f-40b6-db50-e3503f57e480"
      },
      "source": [
        "attributes = list(housing)\n",
        "sorted(zip(feature_importances, attributes), reverse=True)"
      ],
      "execution_count": null,
      "outputs": [
        {
          "output_type": "execute_result",
          "data": {
            "text/plain": [
              "[(0.45979390997434216, 'RM'),\n",
              " (0.27086201783814357, 'LSTAT'),\n",
              " (0.055198530437995955, 'PTRATIO'),\n",
              " (0.04916055597480373, 'INDUS'),\n",
              " (0.046892095074303516, 'DIS'),\n",
              " (0.03177746396026017, 'NOX'),\n",
              " (0.029473498382014653, 'CRIM'),\n",
              " (0.022193718092231435, 'AGE'),\n",
              " (0.015019465647603186, 'TAX'),\n",
              " (0.013458265677202878, 'B'),\n",
              " (0.004547758094606091, 'RAD'),\n",
              " (0.0011906732308440099, 'ZN'),\n",
              " (0.0004320476156488599, 'CHAS')]"
            ]
          },
          "metadata": {
            "tags": []
          },
          "execution_count": 167
        }
      ]
    },
    {
      "cell_type": "markdown",
      "metadata": {
        "id": "zjqNW_nje53N"
      },
      "source": [
        "After finding the best model, we finally want to see its performance on the test set"
      ]
    },
    {
      "cell_type": "code",
      "metadata": {
        "id": "8eZZuXibe5Tq"
      },
      "source": [
        "final_model = grid_search.best_estimator_\n",
        "\n",
        "X_test = strat_test_set.drop(\"MEDV\", axis=1)\n",
        "y_test = strat_test_set[\"MEDV\"].copy()\n",
        "\n",
        "X_test_prepared = num_pipeline.transform(X_test)\n",
        "final_predictions = final_model.predict(X_test_prepared)\n",
        "\n",
        "final_mse = mean_squared_error(y_test, final_predictions)\n",
        "final_rmse = np.sqrt(final_mse)"
      ],
      "execution_count": null,
      "outputs": []
    },
    {
      "cell_type": "code",
      "metadata": {
        "colab": {
          "base_uri": "https://localhost:8080/"
        },
        "id": "EVyoBkvHfbEN",
        "outputId": "02ed690e-e94c-477b-ae3a-36b1c0797e39"
      },
      "source": [
        "final_rmse"
      ],
      "execution_count": null,
      "outputs": [
        {
          "output_type": "execute_result",
          "data": {
            "text/plain": [
              "3.57600844708753"
            ]
          },
          "metadata": {
            "tags": []
          },
          "execution_count": 169
        }
      ]
    },
    {
      "cell_type": "code",
      "metadata": {
        "colab": {
          "base_uri": "https://localhost:8080/"
        },
        "id": "dFuZMX2cflm2",
        "outputId": "1dbfd874-ec25-479f-921f-6e8b28254cfa"
      },
      "source": [
        "from sklearn.metrics import mean_absolute_error\n",
        "\n",
        "lin_mae = mean_absolute_error(y_test, final_predictions)\n",
        "lin_mae"
      ],
      "execution_count": null,
      "outputs": [
        {
          "output_type": "execute_result",
          "data": {
            "text/plain": [
              "2.308811881188118"
            ]
          },
          "metadata": {
            "tags": []
          },
          "execution_count": 170
        }
      ]
    },
    {
      "cell_type": "markdown",
      "metadata": {
        "id": "2M0cU4JZfvGr"
      },
      "source": [
        "From validation on the test set, we find that the model actually works really well. The final RMSE is calculated to be 3.576 and the MAE is calculated to be 2.309"
      ]
    },
    {
      "cell_type": "markdown",
      "metadata": {
        "id": "uqYUMDLxgIXT"
      },
      "source": [
        "Additionally, we can use statistics to calculate a 95% confidence interval for the test RMSE"
      ]
    },
    {
      "cell_type": "code",
      "metadata": {
        "colab": {
          "base_uri": "https://localhost:8080/"
        },
        "id": "ebelR-WxgAFF",
        "outputId": "df763e17-2388-47f9-b49f-a660c56be105"
      },
      "source": [
        "from scipy import stats\n",
        "\n",
        "confidence = 0.95\n",
        "squared_errors = (final_predictions - y_test) ** 2\n",
        "np.sqrt(stats.t.interval(confidence, len(squared_errors) - 1,\n",
        "                         loc=squared_errors.mean(),\n",
        "                         scale=stats.sem(squared_errors)))"
      ],
      "execution_count": null,
      "outputs": [
        {
          "output_type": "execute_result",
          "data": {
            "text/plain": [
              "array([2.10051511, 4.60038141])"
            ]
          },
          "metadata": {
            "tags": []
          },
          "execution_count": 171
        }
      ]
    },
    {
      "cell_type": "markdown",
      "metadata": {
        "id": "m8c-mNrOjfbi"
      },
      "source": [
        "We can be 95% confident that the root mean squared error for our Machine learning model is between 2.101 and 4.600"
      ]
    },
    {
      "cell_type": "markdown",
      "metadata": {
        "id": "xav7nwKHga-B"
      },
      "source": [
        "# Step 7 : Present your solution"
      ]
    },
    {
      "cell_type": "markdown",
      "metadata": {
        "id": "vr7irbOyjdXj"
      },
      "source": [
        "We began with acquiring the data, labelling it and then exploring its characteristics to determine whether there are any adjustments that need to be made. Following this, the correlation between the different labels and the median value of owner-occupied homes (MEDV) was calculated. A high positive correlation was found between the house value and the average number of rooms (RM) and a high negative correlation was found between the house value and the percentage of population with a lower status (LSTAT). We then plotted out LSTAT and RM and graphed out our data using histograms, scatterplots, color plots to further explore our data. Additionally, no feature engineering was performed on the dataset as the labels were determined to be too different to create any new features.\n",
        "\n",
        "\n",
        "Next, a pipeline is established to preprocess any incoming data. The pipeline consists of an imputer which replaces any missing numerical values with the median for the label. It also consists of a standard scaler which standardizes all the data to allow machine learning algorithms to perform much better. \n",
        "\n",
        "Amongst the machine learning algorithms used on the training data were Linear Regression, Decision Tree Regressor and Random Forrest Regressor. 5-fold cross validation on the Decision Tree Regressor revealed an RMSE of 4.900. Linear Regression led to a better RMSE of 4.680 using 5-fold cross validation. Finally, 5-fold cross validation on Random Forest Regressor gave the lowest RMSE of 3.536. \n",
        "\n",
        "Fine tuning the model helped increase the performance of the model further by altering the hyperparameters of the Random Forest Regressor. Using a randomized search cross validation the RMSE was reduced even further to 3.517, resulting in the final model.\n",
        "\n",
        "When the performance of the model was measured on the test data, which the model had never interacted with, we were able to achieve great performance with a final RMSE of 3.576. By employing statistics, we were able to calculate a 95% confidence interval that the test RMSE will be between 2.100 and 4.600.\n"
      ]
    },
    {
      "cell_type": "markdown",
      "metadata": {
        "id": "Mjp8BnRPsMae"
      },
      "source": [
        "# Step 8 : Launch, Maintain, Update"
      ]
    }
  ]
}